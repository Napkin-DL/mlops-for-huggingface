{
 "cells": [
  {
   "cell_type": "code",
   "execution_count": 60,
   "id": "b467bae1-eefa-426d-b7d8-f71db5fff8ac",
   "metadata": {
    "tags": []
   },
   "outputs": [],
   "source": [
    "import boto3, json"
   ]
  },
  {
   "cell_type": "code",
   "execution_count": 61,
   "id": "990ae599-b391-4a50-8932-c34685c53cc0",
   "metadata": {
    "tags": []
   },
   "outputs": [
    {
     "name": "stdout",
     "output_type": "stream",
     "text": [
      "문장은 Positive한 sentiment를 가지고 있으며, score는 0.838 입니다.\n",
      "\n",
      "CPU times: user 18.6 ms, sys: 135 µs, total: 18.7 ms\n",
      "Wall time: 123 ms\n"
     ]
    }
   ],
   "source": [
    "%%time\n",
    "\n",
    "endpoint_name='test-staging'\n",
    "runtime = boto3.client(service_name=\"sagemaker-runtime\")\n",
    "\n",
    "sentiment_input = {\"inputs\": \"I love using SageMaker endpoints to serve my real-time models.\"}\n",
    "\n",
    "response = runtime.invoke_endpoint(\n",
    "    EndpointName=endpoint_name,\n",
    "    Body=json.dumps(sentiment_input),\n",
    "    ContentType=\"application/json\",\n",
    ")\n",
    "\n",
    "# print(response[\"Body\"].read())\n",
    "res = json.loads(response['Body'].read())\n",
    "result = 'Positive' if res[0]['label']=='LABEL_1' else 'Negative'\n",
    "\n",
    "print(\"문장은 {}한 sentiment를 가지고 있으며, score는 {:0.3f} 입니다.\".format(result, res[0]['score']))\n",
    "print()"
   ]
  },
  {
   "cell_type": "code",
   "execution_count": null,
   "id": "5d952dfb-d3af-4a3b-b0d3-bcf5b452da11",
   "metadata": {},
   "outputs": [],
   "source": []
  }
 ],
 "metadata": {
  "instance_type": "ml.t3.medium",
  "kernelspec": {
   "display_name": "Python 3 (Data Science)",
   "language": "python",
   "name": "python3__SAGEMAKER_INTERNAL__arn:aws:sagemaker:us-east-1:081325390199:image/datascience-1.0"
  },
  "language_info": {
   "codemirror_mode": {
    "name": "ipython",
    "version": 3
   },
   "file_extension": ".py",
   "mimetype": "text/x-python",
   "name": "python",
   "nbconvert_exporter": "python",
   "pygments_lexer": "ipython3",
   "version": "3.7.10"
  }
 },
 "nbformat": 4,
 "nbformat_minor": 5
}
