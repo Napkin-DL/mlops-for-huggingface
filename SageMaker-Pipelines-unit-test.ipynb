{
 "cells": [
  {
   "cell_type": "markdown",
   "metadata": {},
   "source": [
    "# SageMaker Pipelines의 Unit Testing 하기"
   ]
  },
  {
   "cell_type": "code",
   "execution_count": 10,
   "metadata": {
    "tags": []
   },
   "outputs": [],
   "source": [
    "%reload_ext autoreload\n",
    "%autoreload 2"
   ]
  },
  {
   "cell_type": "code",
   "execution_count": 125,
   "metadata": {
    "tags": []
   },
   "outputs": [
    {
     "data": {
      "text/plain": [
       "'/root/model-building-test-p-yggcwe5dwpjm/sagemaker-model-building-test-p-yggcwe5dwpjm-modelbuild/pipelines/abalone/'"
      ]
     },
     "execution_count": 125,
     "metadata": {},
     "output_type": "execute_result"
    }
   ],
   "source": [
    "import os\n",
    "\n",
    "import boto3\n",
    "import sagemaker\n",
    "import pandas as pd\n",
    "\n",
    "\n",
    "region = boto3.Session().region_name\n",
    "sagemaker_session = sagemaker.session.Session()\n",
    "role = sagemaker.get_execution_role()\n",
    "\n",
    "from sagemaker.workflow.pipeline_context import PipelineSession\n",
    "from sagemaker.workflow.pipeline_context import LocalPipelineSession\n",
    "\n",
    "boto_session = boto3.Session(region_name=region)\n",
    "sagemaker_client = boto_session.client(\"sagemaker\")\n",
    "default_bucket = sagemaker_session.default_bucket()\n",
    "\n",
    "# pipeline_session = PipelineSession(\n",
    "#     boto_session=boto_session,\n",
    "#     sagemaker_client=sagemaker_client,\n",
    "#     default_bucket=default_bucket,\n",
    "# )\n",
    "\n",
    "pipeline_session = LocalPipelineSession(\n",
    "    boto_session=boto_session,\n",
    "    default_bucket=default_bucket,\n",
    ")\n",
    "\n",
    "from sagemaker.workflow.steps import CacheConfig\n",
    "cache_config = CacheConfig(enable_caching=True, expire_after=\"PT12H\")\n",
    "\n",
    "BASE_DIR = os.path.join(os.getcwd(), 'pipelines/abalone/')\n",
    "BASE_DIR"
   ]
  },
  {
   "cell_type": "markdown",
   "metadata": {},
   "source": [
    "## 1. 필요 Packages import"
   ]
  },
  {
   "cell_type": "markdown",
   "metadata": {},
   "source": [
    "### 1-1. Parameters 정의에 필요한 Packages"
   ]
  },
  {
   "cell_type": "code",
   "execution_count": 126,
   "metadata": {
    "tags": []
   },
   "outputs": [],
   "source": [
    "from sagemaker.workflow.parameters import (\n",
    "    ParameterInteger,\n",
    "    ParameterString,\n",
    ")\n"
   ]
  },
  {
   "cell_type": "markdown",
   "metadata": {},
   "source": [
    "### 1-2. Processing에 필요한 Packages"
   ]
  },
  {
   "cell_type": "code",
   "execution_count": 127,
   "metadata": {
    "tags": []
   },
   "outputs": [],
   "source": [
    "from sagemaker.sklearn.processing import SKLearnProcessor\n",
    "\n",
    "from sagemaker.processing import (\n",
    "    ProcessingInput,\n",
    "    ProcessingOutput,\n",
    "    ScriptProcessor,\n",
    ")\n",
    "\n",
    "from sagemaker.workflow.steps import ProcessingStep"
   ]
  },
  {
   "cell_type": "markdown",
   "metadata": {},
   "source": [
    "### 1-3. Training에 필요한 Packages"
   ]
  },
  {
   "cell_type": "code",
   "execution_count": 128,
   "metadata": {
    "tags": []
   },
   "outputs": [],
   "source": [
    "from sagemaker.estimator import Estimator\n",
    "from sagemaker.inputs import TrainingInput\n",
    "\n",
    "from sagemaker.workflow.steps import TrainingStep"
   ]
  },
  {
   "cell_type": "markdown",
   "metadata": {},
   "source": [
    "### 1-4. Evaluation에 필요한 Packages"
   ]
  },
  {
   "cell_type": "code",
   "execution_count": 129,
   "metadata": {
    "tags": []
   },
   "outputs": [],
   "source": [
    "from sagemaker.workflow.properties import PropertyFile"
   ]
  },
  {
   "cell_type": "markdown",
   "metadata": {},
   "source": [
    "### 1-5. Model Metrics에 필요한 Packages"
   ]
  },
  {
   "cell_type": "code",
   "execution_count": 147,
   "metadata": {
    "tags": []
   },
   "outputs": [],
   "source": [
    "from sagemaker.model_metrics import (\n",
    "    MetricsSource,\n",
    "    ModelMetrics,\n",
    ")\n",
    "\n",
    "from sagemaker.workflow.conditions import ConditionLessThanOrEqualTo\n",
    "from sagemaker.workflow.condition_step import (\n",
    "    ConditionStep,\n",
    ")\n",
    "\n",
    "from sagemaker.workflow.functions import (\n",
    "    JsonGet,\n",
    "    Join,\n",
    ")\n",
    "\n",
    "from sagemaker.workflow.model_step import ModelStep\n",
    "from sagemaker.model import Model"
   ]
  },
  {
   "cell_type": "markdown",
   "metadata": {},
   "source": [
    "## 2. get_pipeline의 입력 변수"
   ]
  },
  {
   "cell_type": "code",
   "execution_count": 131,
   "metadata": {
    "tags": []
   },
   "outputs": [],
   "source": [
    "model_package_group_name=\"AbalonePackageGroup\"\n",
    "pipeline_name=\"AbalonePipeline\"\n",
    "base_job_prefix=\"Abalone\"\n",
    "processing_instance_type=\"ml.m5.xlarge\"\n",
    "training_instance_type=\"ml.m5.xlarge\""
   ]
  },
  {
   "cell_type": "markdown",
   "metadata": {
    "tags": []
   },
   "source": [
    "## 3. 모델 빌딩 파이프라인 스텝(Step) 정의\n"
   ]
  },
  {
   "cell_type": "markdown",
   "metadata": {},
   "source": [
    "### 3-1. 모델 빌딩 파이프라인 변수 생성"
   ]
  },
  {
   "cell_type": "code",
   "execution_count": 132,
   "metadata": {
    "tags": []
   },
   "outputs": [],
   "source": [
    "# parameters for pipeline execution\n",
    "processing_instance_count = ParameterInteger(name=\"ProcessingInstanceCount\", default_value=1)\n",
    "model_approval_status = ParameterString(\n",
    "    name=\"ModelApprovalStatus\", default_value=\"PendingManualApproval\"\n",
    ")\n",
    "input_data = ParameterString(\n",
    "    name=\"InputDataUrl\",\n",
    "    default_value=f\"s3://sagemaker-servicecatalog-seedcode-{region}/dataset/abalone-dataset.csv\",\n",
    ")"
   ]
  },
  {
   "cell_type": "markdown",
   "metadata": {},
   "source": [
    "### 3-2. 전처리 스텝 단계 정의\n",
    "\n",
    "크게 아래와 같은 순서로 정의 합니다.\n",
    "- 프로세싱 오브젝트 정의 (SKLearnProcessor)\n",
    "- 프로세싱 스텝 정의\n",
    "    - 일력 데이터 세트\n",
    "        - source: S3 경로 (input_data_uri)\n",
    "        - destination: 도커 컨테이너의 내부 폴더 위치\n",
    "    - 출력 위치\n",
    "        - 훈련 전처리 데이터 결과 위치\n",
    "        - 테스트 전처리 데이터 결과 위치\n",
    "    - 프로세싱 코드\n",
    "    - 프로세싱 코드에 넘길 인자 \n"
   ]
  },
  {
   "cell_type": "code",
   "execution_count": 133,
   "metadata": {
    "tags": []
   },
   "outputs": [
    {
     "name": "stderr",
     "output_type": "stream",
     "text": [
      "INFO:sagemaker.image_uris:Defaulting to only available Python version: py3\n"
     ]
    }
   ],
   "source": [
    "# processing step for feature engineering\n",
    "sklearn_processor = SKLearnProcessor(\n",
    "    framework_version=\"0.23-1\",\n",
    "    instance_type=processing_instance_type,\n",
    "    instance_count=processing_instance_count,\n",
    "    base_job_name=f\"{base_job_prefix}/sklearn-abalone-preprocess\",\n",
    "    sagemaker_session=pipeline_session,\n",
    "    role=role,\n",
    ")\n",
    "step_args = sklearn_processor.run(\n",
    "    outputs=[\n",
    "        ProcessingOutput(output_name=\"train\", source=\"/opt/ml/processing/train\"),\n",
    "        ProcessingOutput(output_name=\"validation\", source=\"/opt/ml/processing/validation\"),\n",
    "        ProcessingOutput(output_name=\"test\", source=\"/opt/ml/processing/test\"),\n",
    "    ],\n",
    "    code=os.path.join(BASE_DIR, \"preprocess.py\"),\n",
    "    arguments=[\"--input-data\", input_data],\n",
    ")\n",
    "step_process = ProcessingStep(\n",
    "    name=\"PreprocessAbaloneData\",\n",
    "    step_args=step_args,\n",
    "    cache_config=cache_config\n",
    ")"
   ]
  },
  {
   "cell_type": "markdown",
   "metadata": {},
   "source": [
    "훈련의 입력으로 사용할 이전 단계의 Processing 결과는 아래 형태로 제공됩니다.\n",
    "- `step_process.properties.ProcessingOutputConfig.Outputs[\"train\"].S3Output.S3Uri`"
   ]
  },
  {
   "cell_type": "code",
   "execution_count": null,
   "metadata": {},
   "outputs": [],
   "source": []
  },
  {
   "cell_type": "code",
   "execution_count": 134,
   "metadata": {
    "tags": []
   },
   "outputs": [
    {
     "name": "stdout",
     "output_type": "stream",
     "text": [
      "\n",
      "Job Name:  Abalone/sklearn-abalone-preprocess-2023-01-09-08-42-19-134\n",
      "Inputs:  [{'InputName': 'code', 'AppManaged': False, 'S3Input': {'S3Uri': 's3://sagemaker-us-east-1-223194520082/AbalonePipeline/code/2eda08d19d8e93cbfb937696aa03d533/preprocess.py', 'LocalPath': '/opt/ml/processing/input/code', 'S3DataType': 'S3Prefix', 'S3InputMode': 'File', 'S3DataDistributionType': 'FullyReplicated', 'S3CompressionType': 'None'}}]\n",
      "Outputs:  [{'OutputName': 'train', 'AppManaged': False, 'S3Output': {'S3Uri': Join(on='/', values=['s3:/', 'sagemaker-us-east-1-223194520082', 'AbalonePipeline', <sagemaker.workflow.execution_variables.ExecutionVariable object at 0x7fad03ed1610>, 'PreprocessAbaloneData', 'output', 'train']), 'LocalPath': '/opt/ml/processing/train', 'S3UploadMode': 'EndOfJob'}}, {'OutputName': 'validation', 'AppManaged': False, 'S3Output': {'S3Uri': Join(on='/', values=['s3:/', 'sagemaker-us-east-1-223194520082', 'AbalonePipeline', <sagemaker.workflow.execution_variables.ExecutionVariable object at 0x7fad03ed1610>, 'PreprocessAbaloneData', 'output', 'validation']), 'LocalPath': '/opt/ml/processing/validation', 'S3UploadMode': 'EndOfJob'}}, {'OutputName': 'test', 'AppManaged': False, 'S3Output': {'S3Uri': Join(on='/', values=['s3:/', 'sagemaker-us-east-1-223194520082', 'AbalonePipeline', <sagemaker.workflow.execution_variables.ExecutionVariable object at 0x7fad03ed1610>, 'PreprocessAbaloneData', 'output', 'test']), 'LocalPath': '/opt/ml/processing/test', 'S3UploadMode': 'EndOfJob'}}]\n"
     ]
    }
   ],
   "source": [
    "import sm_pipelines_exec as sm_exec\n",
    "\n",
    "test_parameters_list = [processing_instance_count, model_approval_status, input_data]\n",
    "test_steps_list = [step_process]\n",
    "\n",
    "execution = sm_exec.exec_pipelines(pipeline_name, role, test_parameters_list, test_steps_list)"
   ]
  },
  {
   "cell_type": "code",
   "execution_count": 135,
   "metadata": {
    "tags": []
   },
   "outputs": [
    {
     "name": "stdout",
     "output_type": "stream",
     "text": [
      "Pipelines Status : Succeeded \n",
      "\n",
      "- StepName : PreprocessAbaloneData, StepStatus : Succeeded\n",
      "- CacheHitResult : {'SourcePipelineExecutionArn': 'arn:aws:sagemaker:us-east-1:223194520082:pipeline/abalonepipeline/execution/b67huv47ewxp'} \n",
      "\n",
      "{'Processing': 'pipelines-b67huv47ewxp-preprocessabalonedat-nd2bfouvdc'}\n",
      "Processing : pipelines-b67huv47ewxp-preprocessabalonedat-nd2bfouvdc\n",
      "[{'AppManaged': False,\n",
      "  'OutputName': 'train',\n",
      "  'S3Output': {'LocalPath': '/opt/ml/processing/train',\n",
      "               'S3UploadMode': 'EndOfJob',\n",
      "               'S3Uri': 's3://sagemaker-us-east-1-223194520082/AbalonePipeline/b67huv47ewxp/PreprocessAbaloneData/output/train'}},\n",
      " {'AppManaged': False,\n",
      "  'OutputName': 'validation',\n",
      "  'S3Output': {'LocalPath': '/opt/ml/processing/validation',\n",
      "               'S3UploadMode': 'EndOfJob',\n",
      "               'S3Uri': 's3://sagemaker-us-east-1-223194520082/AbalonePipeline/b67huv47ewxp/PreprocessAbaloneData/output/validation'}},\n",
      " {'AppManaged': False,\n",
      "  'OutputName': 'test',\n",
      "  'S3Output': {'LocalPath': '/opt/ml/processing/test',\n",
      "               'S3UploadMode': 'EndOfJob',\n",
      "               'S3Uri': 's3://sagemaker-us-east-1-223194520082/AbalonePipeline/b67huv47ewxp/PreprocessAbaloneData/output/test'}}]\n",
      "\n",
      " --------------------------------------------------\n",
      "\n"
     ]
    }
   ],
   "source": [
    "sm_exec.describe_pipelines(execution)\n",
    "sm_exec.get_step_results(execution,test_steps_list)"
   ]
  },
  {
   "cell_type": "markdown",
   "metadata": {},
   "source": [
    "## 4. 모델 학습을 위한 학습단계 정의 "
   ]
  },
  {
   "cell_type": "code",
   "execution_count": 136,
   "metadata": {
    "tags": []
   },
   "outputs": [],
   "source": [
    "# training step for generating model artifacts\n",
    "model_path = f\"s3://{sagemaker_session.default_bucket()}/{base_job_prefix}/AbaloneTrain\"\n",
    "\n",
    "image_uri = sagemaker.image_uris.retrieve(\n",
    "    framework=\"xgboost\",\n",
    "    region=region,\n",
    "    version=\"1.0-1\",\n",
    "    py_version=\"py3\",\n",
    "    instance_type=training_instance_type,\n",
    ")\n",
    "xgb_train = Estimator(\n",
    "    image_uri=image_uri,\n",
    "    instance_type=training_instance_type,\n",
    "    instance_count=1,\n",
    "    output_path=model_path,\n",
    "    base_job_name=f\"{base_job_prefix}/abalone-train\",\n",
    "    sagemaker_session=pipeline_session,\n",
    "    role=role,\n",
    ")\n",
    "xgb_train.set_hyperparameters(\n",
    "    objective=\"reg:linear\",\n",
    "    num_round=50,\n",
    "    max_depth=5,\n",
    "    eta=0.2,\n",
    "    gamma=4,\n",
    "    min_child_weight=6,\n",
    "    subsample=0.7,\n",
    "    silent=0,\n",
    ")\n",
    "step_args = xgb_train.fit(\n",
    "    inputs={\n",
    "        \"train\": TrainingInput(\n",
    "            s3_data=step_process.properties.ProcessingOutputConfig.Outputs[\n",
    "                \"train\"\n",
    "            ].S3Output.S3Uri,\n",
    "            content_type=\"text/csv\",\n",
    "        ),\n",
    "        \"validation\": TrainingInput(\n",
    "            s3_data=step_process.properties.ProcessingOutputConfig.Outputs[\n",
    "                \"validation\"\n",
    "            ].S3Output.S3Uri,\n",
    "            content_type=\"text/csv\",\n",
    "        ),\n",
    "    },\n",
    ")\n",
    "step_train = TrainingStep(\n",
    "    name=\"TrainAbaloneModel\",\n",
    "    step_args=step_args,\n",
    "    cache_config=cache_config,\n",
    ")"
   ]
  },
  {
   "cell_type": "code",
   "execution_count": 137,
   "metadata": {
    "tags": []
   },
   "outputs": [
    {
     "name": "stdout",
     "output_type": "stream",
     "text": [
      "\n",
      "Job Name:  Abalone/sklearn-abalone-preprocess-2023-01-09-08-42-29-816\n",
      "Inputs:  [{'InputName': 'code', 'AppManaged': False, 'S3Input': {'S3Uri': 's3://sagemaker-us-east-1-223194520082/AbalonePipeline/code/2eda08d19d8e93cbfb937696aa03d533/preprocess.py', 'LocalPath': '/opt/ml/processing/input/code', 'S3DataType': 'S3Prefix', 'S3InputMode': 'File', 'S3DataDistributionType': 'FullyReplicated', 'S3CompressionType': 'None'}}]\n",
      "Outputs:  [{'OutputName': 'train', 'AppManaged': False, 'S3Output': {'S3Uri': Join(on='/', values=['s3:/', 'sagemaker-us-east-1-223194520082', 'AbalonePipeline', <sagemaker.workflow.execution_variables.ExecutionVariable object at 0x7fad03ed1610>, 'PreprocessAbaloneData', 'output', 'train']), 'LocalPath': '/opt/ml/processing/train', 'S3UploadMode': 'EndOfJob'}}, {'OutputName': 'validation', 'AppManaged': False, 'S3Output': {'S3Uri': Join(on='/', values=['s3:/', 'sagemaker-us-east-1-223194520082', 'AbalonePipeline', <sagemaker.workflow.execution_variables.ExecutionVariable object at 0x7fad03ed1610>, 'PreprocessAbaloneData', 'output', 'validation']), 'LocalPath': '/opt/ml/processing/validation', 'S3UploadMode': 'EndOfJob'}}, {'OutputName': 'test', 'AppManaged': False, 'S3Output': {'S3Uri': Join(on='/', values=['s3:/', 'sagemaker-us-east-1-223194520082', 'AbalonePipeline', <sagemaker.workflow.execution_variables.ExecutionVariable object at 0x7fad03ed1610>, 'PreprocessAbaloneData', 'output', 'test']), 'LocalPath': '/opt/ml/processing/test', 'S3UploadMode': 'EndOfJob'}}]\n"
     ]
    }
   ],
   "source": [
    "test_steps_list = [step_process, step_train]\n",
    "execution = sm_exec.exec_pipelines(pipeline_name, role, test_parameters_list, test_steps_list)"
   ]
  },
  {
   "cell_type": "code",
   "execution_count": 139,
   "metadata": {
    "tags": []
   },
   "outputs": [
    {
     "name": "stdout",
     "output_type": "stream",
     "text": [
      "Pipelines Status : Succeeded \n",
      "\n",
      "- StepName : TrainAbaloneModel, StepStatus : Succeeded\n",
      "- CacheHitResult : {'SourcePipelineExecutionArn': 'arn:aws:sagemaker:us-east-1:223194520082:pipeline/abalonepipeline/execution/mu6jv29rzzfc'} \n",
      "\n",
      "- StepName : PreprocessAbaloneData, StepStatus : Succeeded\n",
      "- CacheHitResult : {'SourcePipelineExecutionArn': 'arn:aws:sagemaker:us-east-1:223194520082:pipeline/abalonepipeline/execution/b67huv47ewxp'} \n",
      "\n",
      "{'Processing': 'pipelines-b67huv47ewxp-preprocessabalonedat-nd2bfouvdc',\n",
      " 'Training': 'pipelines-mu6jv29rzzfc-TrainAbaloneModel-rYZGCJvKgK'}\n",
      "Processing : pipelines-b67huv47ewxp-preprocessabalonedat-nd2bfouvdc\n",
      "[{'AppManaged': False,\n",
      "  'OutputName': 'train',\n",
      "  'S3Output': {'LocalPath': '/opt/ml/processing/train',\n",
      "               'S3UploadMode': 'EndOfJob',\n",
      "               'S3Uri': 's3://sagemaker-us-east-1-223194520082/AbalonePipeline/b67huv47ewxp/PreprocessAbaloneData/output/train'}},\n",
      " {'AppManaged': False,\n",
      "  'OutputName': 'validation',\n",
      "  'S3Output': {'LocalPath': '/opt/ml/processing/validation',\n",
      "               'S3UploadMode': 'EndOfJob',\n",
      "               'S3Uri': 's3://sagemaker-us-east-1-223194520082/AbalonePipeline/b67huv47ewxp/PreprocessAbaloneData/output/validation'}},\n",
      " {'AppManaged': False,\n",
      "  'OutputName': 'test',\n",
      "  'S3Output': {'LocalPath': '/opt/ml/processing/test',\n",
      "               'S3UploadMode': 'EndOfJob',\n",
      "               'S3Uri': 's3://sagemaker-us-east-1-223194520082/AbalonePipeline/b67huv47ewxp/PreprocessAbaloneData/output/test'}}]\n",
      "\n",
      " --------------------------------------------------\n",
      "\n",
      "Training : pipelines-mu6jv29rzzfc-TrainAbaloneModel-rYZGCJvKgK\n",
      "S3ModelArtifacts : s3://sagemaker-us-east-1-223194520082/Abalone/AbaloneTrain/pipelines-mu6jv29rzzfc-TrainAbaloneModel-rYZGCJvKgK/output/model.tar.gz\n",
      "\n",
      " --------------------------------------------------\n",
      "\n"
     ]
    }
   ],
   "source": [
    "sm_exec.describe_pipelines(execution)\n",
    "sm_exec.get_step_results(execution,test_steps_list)"
   ]
  },
  {
   "cell_type": "markdown",
   "metadata": {},
   "source": [
    "## 5. 모델 검증을 위한 Evaluation 단계 정의 "
   ]
  },
  {
   "cell_type": "code",
   "execution_count": 140,
   "metadata": {
    "tags": []
   },
   "outputs": [],
   "source": [
    "# processing step for evaluation\n",
    "script_eval = ScriptProcessor(\n",
    "    image_uri=image_uri,\n",
    "    command=[\"python3\"],\n",
    "    instance_type=processing_instance_type,\n",
    "    instance_count=1,\n",
    "    base_job_name=f\"{base_job_prefix}/script-abalone-eval\",\n",
    "    sagemaker_session=pipeline_session,\n",
    "    role=role,\n",
    ")\n",
    "step_args = script_eval.run(\n",
    "    inputs=[\n",
    "        ProcessingInput(\n",
    "            source=step_train.properties.ModelArtifacts.S3ModelArtifacts,\n",
    "            destination=\"/opt/ml/processing/model\",\n",
    "        ),\n",
    "        ProcessingInput(\n",
    "            source=step_process.properties.ProcessingOutputConfig.Outputs[\n",
    "                \"test\"\n",
    "            ].S3Output.S3Uri,\n",
    "            destination=\"/opt/ml/processing/test\",\n",
    "        ),\n",
    "    ],\n",
    "    outputs=[\n",
    "        ProcessingOutput(output_name=\"evaluation\", source=\"/opt/ml/processing/evaluation\"),\n",
    "    ],\n",
    "    code=os.path.join(BASE_DIR, \"evaluate.py\"),\n",
    ")\n",
    "evaluation_report = PropertyFile(\n",
    "    name=\"AbaloneEvaluationReport\",\n",
    "    output_name=\"evaluation\",\n",
    "    path=\"evaluation.json\",\n",
    ")\n",
    "step_eval = ProcessingStep(\n",
    "    name=\"EvaluateAbaloneModel\",\n",
    "    step_args=step_args,\n",
    "    property_files=[evaluation_report],\n",
    "    cache_config=cache_config,\n",
    ")"
   ]
  },
  {
   "cell_type": "code",
   "execution_count": 141,
   "metadata": {
    "tags": []
   },
   "outputs": [
    {
     "name": "stdout",
     "output_type": "stream",
     "text": [
      "\n",
      "Job Name:  Abalone/sklearn-abalone-preprocess-2023-01-09-08-42-42-128\n",
      "Inputs:  [{'InputName': 'code', 'AppManaged': False, 'S3Input': {'S3Uri': 's3://sagemaker-us-east-1-223194520082/AbalonePipeline/code/2eda08d19d8e93cbfb937696aa03d533/preprocess.py', 'LocalPath': '/opt/ml/processing/input/code', 'S3DataType': 'S3Prefix', 'S3InputMode': 'File', 'S3DataDistributionType': 'FullyReplicated', 'S3CompressionType': 'None'}}]\n",
      "Outputs:  [{'OutputName': 'train', 'AppManaged': False, 'S3Output': {'S3Uri': Join(on='/', values=['s3:/', 'sagemaker-us-east-1-223194520082', 'AbalonePipeline', <sagemaker.workflow.execution_variables.ExecutionVariable object at 0x7fad03ed1610>, 'PreprocessAbaloneData', 'output', 'train']), 'LocalPath': '/opt/ml/processing/train', 'S3UploadMode': 'EndOfJob'}}, {'OutputName': 'validation', 'AppManaged': False, 'S3Output': {'S3Uri': Join(on='/', values=['s3:/', 'sagemaker-us-east-1-223194520082', 'AbalonePipeline', <sagemaker.workflow.execution_variables.ExecutionVariable object at 0x7fad03ed1610>, 'PreprocessAbaloneData', 'output', 'validation']), 'LocalPath': '/opt/ml/processing/validation', 'S3UploadMode': 'EndOfJob'}}, {'OutputName': 'test', 'AppManaged': False, 'S3Output': {'S3Uri': Join(on='/', values=['s3:/', 'sagemaker-us-east-1-223194520082', 'AbalonePipeline', <sagemaker.workflow.execution_variables.ExecutionVariable object at 0x7fad03ed1610>, 'PreprocessAbaloneData', 'output', 'test']), 'LocalPath': '/opt/ml/processing/test', 'S3UploadMode': 'EndOfJob'}}]\n",
      "\n",
      "Job Name:  Abalone/script-abalone-eval-2023-01-09-08-42-42-233\n",
      "Inputs:  [{'InputName': 'input-1', 'AppManaged': False, 'S3Input': {'S3Uri': <sagemaker.workflow.properties.Properties object at 0x7facfcda0a10>, 'LocalPath': '/opt/ml/processing/model', 'S3DataType': 'S3Prefix', 'S3InputMode': 'File', 'S3DataDistributionType': 'FullyReplicated', 'S3CompressionType': 'None'}}, {'InputName': 'input-2', 'AppManaged': False, 'S3Input': {'S3Uri': <sagemaker.workflow.properties.Properties object at 0x7fad02b07dd0>, 'LocalPath': '/opt/ml/processing/test', 'S3DataType': 'S3Prefix', 'S3InputMode': 'File', 'S3DataDistributionType': 'FullyReplicated', 'S3CompressionType': 'None'}}, {'InputName': 'code', 'AppManaged': False, 'S3Input': {'S3Uri': 's3://sagemaker-us-east-1-223194520082/AbalonePipeline/code/1071e707cf212df045f3b2893ea00fff/evaluate.py', 'LocalPath': '/opt/ml/processing/input/code', 'S3DataType': 'S3Prefix', 'S3InputMode': 'File', 'S3DataDistributionType': 'FullyReplicated', 'S3CompressionType': 'None'}}]\n",
      "Outputs:  [{'OutputName': 'evaluation', 'AppManaged': False, 'S3Output': {'S3Uri': Join(on='/', values=['s3:/', 'sagemaker-us-east-1-223194520082', 'AbalonePipeline', <sagemaker.workflow.execution_variables.ExecutionVariable object at 0x7fad03ed1610>, 'EvaluateAbaloneModel', 'output', 'evaluation']), 'LocalPath': '/opt/ml/processing/evaluation', 'S3UploadMode': 'EndOfJob'}}]\n"
     ]
    }
   ],
   "source": [
    "test_steps_list = [step_process, step_train, step_eval]\n",
    "execution = sm_exec.exec_pipelines(pipeline_name, role, test_parameters_list, test_steps_list)"
   ]
  },
  {
   "cell_type": "code",
   "execution_count": 143,
   "metadata": {
    "tags": []
   },
   "outputs": [
    {
     "name": "stdout",
     "output_type": "stream",
     "text": [
      "Pipelines Status : Succeeded \n",
      "\n",
      "- StepName : EvaluateAbaloneModel, StepStatus : Succeeded\n",
      "- CacheHitResult : {'SourcePipelineExecutionArn': 'arn:aws:sagemaker:us-east-1:223194520082:pipeline/abalonepipeline/execution/otnwv17cs193'} \n",
      "\n",
      "- StepName : TrainAbaloneModel, StepStatus : Succeeded\n",
      "- CacheHitResult : {'SourcePipelineExecutionArn': 'arn:aws:sagemaker:us-east-1:223194520082:pipeline/abalonepipeline/execution/mu6jv29rzzfc'} \n",
      "\n",
      "- StepName : PreprocessAbaloneData, StepStatus : Succeeded\n",
      "- CacheHitResult : {'SourcePipelineExecutionArn': 'arn:aws:sagemaker:us-east-1:223194520082:pipeline/abalonepipeline/execution/b67huv47ewxp'} \n",
      "\n",
      "{'Processing': 'pipelines-b67huv47ewxp-preprocessabalonedat-nd2bfouvdc',\n",
      " 'Training': 'pipelines-mu6jv29rzzfc-TrainAbaloneModel-rYZGCJvKgK'}\n",
      "Processing : pipelines-b67huv47ewxp-preprocessabalonedat-nd2bfouvdc\n",
      "[{'AppManaged': False,\n",
      "  'OutputName': 'train',\n",
      "  'S3Output': {'LocalPath': '/opt/ml/processing/train',\n",
      "               'S3UploadMode': 'EndOfJob',\n",
      "               'S3Uri': 's3://sagemaker-us-east-1-223194520082/AbalonePipeline/b67huv47ewxp/PreprocessAbaloneData/output/train'}},\n",
      " {'AppManaged': False,\n",
      "  'OutputName': 'validation',\n",
      "  'S3Output': {'LocalPath': '/opt/ml/processing/validation',\n",
      "               'S3UploadMode': 'EndOfJob',\n",
      "               'S3Uri': 's3://sagemaker-us-east-1-223194520082/AbalonePipeline/b67huv47ewxp/PreprocessAbaloneData/output/validation'}},\n",
      " {'AppManaged': False,\n",
      "  'OutputName': 'test',\n",
      "  'S3Output': {'LocalPath': '/opt/ml/processing/test',\n",
      "               'S3UploadMode': 'EndOfJob',\n",
      "               'S3Uri': 's3://sagemaker-us-east-1-223194520082/AbalonePipeline/b67huv47ewxp/PreprocessAbaloneData/output/test'}}]\n",
      "\n",
      " --------------------------------------------------\n",
      "\n",
      "Training : pipelines-mu6jv29rzzfc-TrainAbaloneModel-rYZGCJvKgK\n",
      "S3ModelArtifacts : s3://sagemaker-us-east-1-223194520082/Abalone/AbaloneTrain/pipelines-mu6jv29rzzfc-TrainAbaloneModel-rYZGCJvKgK/output/model.tar.gz\n",
      "\n",
      " --------------------------------------------------\n",
      "\n",
      "Processing : pipelines-b67huv47ewxp-preprocessabalonedat-nd2bfouvdc\n",
      "[{'AppManaged': False,\n",
      "  'OutputName': 'train',\n",
      "  'S3Output': {'LocalPath': '/opt/ml/processing/train',\n",
      "               'S3UploadMode': 'EndOfJob',\n",
      "               'S3Uri': 's3://sagemaker-us-east-1-223194520082/AbalonePipeline/b67huv47ewxp/PreprocessAbaloneData/output/train'}},\n",
      " {'AppManaged': False,\n",
      "  'OutputName': 'validation',\n",
      "  'S3Output': {'LocalPath': '/opt/ml/processing/validation',\n",
      "               'S3UploadMode': 'EndOfJob',\n",
      "               'S3Uri': 's3://sagemaker-us-east-1-223194520082/AbalonePipeline/b67huv47ewxp/PreprocessAbaloneData/output/validation'}},\n",
      " {'AppManaged': False,\n",
      "  'OutputName': 'test',\n",
      "  'S3Output': {'LocalPath': '/opt/ml/processing/test',\n",
      "               'S3UploadMode': 'EndOfJob',\n",
      "               'S3Uri': 's3://sagemaker-us-east-1-223194520082/AbalonePipeline/b67huv47ewxp/PreprocessAbaloneData/output/test'}}]\n",
      "\n",
      " --------------------------------------------------\n",
      "\n"
     ]
    }
   ],
   "source": [
    "sm_exec.describe_pipelines(execution)\n",
    "sm_exec.get_step_results(execution,test_steps_list)"
   ]
  },
  {
   "cell_type": "markdown",
   "metadata": {
    "tags": []
   },
   "source": [
    "## 6. Model Metrics 단계 정의"
   ]
  },
  {
   "cell_type": "code",
   "execution_count": 155,
   "metadata": {
    "tags": []
   },
   "outputs": [
    {
     "name": "stdout",
     "output_type": "stream",
     "text": [
      "\n",
      "Job Name:  Abalone/script-abalone-eval-2023-01-09-09-11-20-402\n",
      "Inputs:  [{'InputName': 'input-1', 'AppManaged': False, 'S3Input': {'S3Uri': <sagemaker.workflow.properties.Properties object at 0x7facfcda0a10>, 'LocalPath': '/opt/ml/processing/model', 'S3DataType': 'S3Prefix', 'S3InputMode': 'File', 'S3DataDistributionType': 'FullyReplicated', 'S3CompressionType': 'None'}}, {'InputName': 'input-2', 'AppManaged': False, 'S3Input': {'S3Uri': <sagemaker.workflow.properties.Properties object at 0x7fad02b07dd0>, 'LocalPath': '/opt/ml/processing/test', 'S3DataType': 'S3Prefix', 'S3InputMode': 'File', 'S3DataDistributionType': 'FullyReplicated', 'S3CompressionType': 'None'}}, {'InputName': 'code', 'AppManaged': False, 'S3Input': {'S3Uri': 's3://sagemaker-us-east-1-223194520082/Abalone/script-abalone-eval-2023-01-09-09-11-20-402/input/code/evaluate.py', 'LocalPath': '/opt/ml/processing/input/code', 'S3DataType': 'S3Prefix', 'S3InputMode': 'File', 'S3DataDistributionType': 'FullyReplicated', 'S3CompressionType': 'None'}}]\n",
      "Outputs:  [{'OutputName': 'evaluation', 'AppManaged': False, 'S3Output': {'S3Uri': Join(on='/', values=['s3:/', 'sagemaker-us-east-1-223194520082', 'AbalonePipeline', <sagemaker.workflow.execution_variables.ExecutionVariable object at 0x7fad03ed1610>, 'EvaluateAbaloneModel', 'output', 'evaluation']), 'LocalPath': '/opt/ml/processing/evaluation', 'S3UploadMode': 'EndOfJob'}}]\n"
     ]
    }
   ],
   "source": [
    "# register model step that will be conditionally executed\n",
    "model_metrics = ModelMetrics(\n",
    "    model_statistics=MetricsSource(\n",
    "        s3_uri=Join(on='/', values=[step_eval.arguments[\"ProcessingOutputConfig\"][\"Outputs\"][0][\"S3Output\"][\"S3Uri\"], 'evaluation.json']),\n",
    "        content_type=\"application/json\"\n",
    "    )\n",
    ")\n",
    "\n",
    "model = Model(\n",
    "    image_uri=image_uri,\n",
    "    model_data=step_train.properties.ModelArtifacts.S3ModelArtifacts,\n",
    "    sagemaker_session=pipeline_session,\n",
    "    role=role,\n",
    ")\n",
    "step_args = model.register(\n",
    "    content_types=[\"text/csv\"],\n",
    "    response_types=[\"text/csv\"],\n",
    "    inference_instances=[\"ml.t2.medium\", \"ml.m5.large\"],\n",
    "    transform_instances=[\"ml.m5.large\"],\n",
    "    model_package_group_name=model_package_group_name,\n",
    "    approval_status=model_approval_status,\n",
    "    model_metrics=model_metrics,\n",
    ")\n",
    "step_register = ModelStep(\n",
    "    name=\"RegisterAbaloneModel\",\n",
    "    step_args=step_args,\n",
    ")\n",
    "\n",
    "# condition step for evaluating model quality and branching execution\n",
    "cond_lte = ConditionLessThanOrEqualTo(\n",
    "    left=JsonGet(\n",
    "        step_name=step_eval.name,\n",
    "        property_file=evaluation_report,\n",
    "        json_path=\"regression_metrics.mse.value\"\n",
    "    ),\n",
    "    right=6.0,\n",
    ")\n",
    "step_cond = ConditionStep(\n",
    "    name=\"CheckMSEAbaloneEvaluation\",\n",
    "    conditions=[cond_lte],\n",
    "    if_steps=[step_register],\n",
    "    else_steps=[],\n",
    ")"
   ]
  },
  {
   "cell_type": "code",
   "execution_count": 169,
   "metadata": {
    "tags": []
   },
   "outputs": [
    {
     "name": "stdout",
     "output_type": "stream",
     "text": [
      "\n",
      "Job Name:  Abalone/sklearn-abalone-preprocess-2023-01-09-09-29-58-847\n",
      "Inputs:  [{'InputName': 'code', 'AppManaged': False, 'S3Input': {'S3Uri': 's3://sagemaker-us-east-1-223194520082/AbalonePipeline/code/2eda08d19d8e93cbfb937696aa03d533/preprocess.py', 'LocalPath': '/opt/ml/processing/input/code', 'S3DataType': 'S3Prefix', 'S3InputMode': 'File', 'S3DataDistributionType': 'FullyReplicated', 'S3CompressionType': 'None'}}]\n",
      "Outputs:  [{'OutputName': 'train', 'AppManaged': False, 'S3Output': {'S3Uri': Join(on='/', values=['s3:/', 'sagemaker-us-east-1-223194520082', 'AbalonePipeline', <sagemaker.workflow.execution_variables.ExecutionVariable object at 0x7fad03ed1610>, 'PreprocessAbaloneData', 'output', 'train']), 'LocalPath': '/opt/ml/processing/train', 'S3UploadMode': 'EndOfJob'}}, {'OutputName': 'validation', 'AppManaged': False, 'S3Output': {'S3Uri': Join(on='/', values=['s3:/', 'sagemaker-us-east-1-223194520082', 'AbalonePipeline', <sagemaker.workflow.execution_variables.ExecutionVariable object at 0x7fad03ed1610>, 'PreprocessAbaloneData', 'output', 'validation']), 'LocalPath': '/opt/ml/processing/validation', 'S3UploadMode': 'EndOfJob'}}, {'OutputName': 'test', 'AppManaged': False, 'S3Output': {'S3Uri': Join(on='/', values=['s3:/', 'sagemaker-us-east-1-223194520082', 'AbalonePipeline', <sagemaker.workflow.execution_variables.ExecutionVariable object at 0x7fad03ed1610>, 'PreprocessAbaloneData', 'output', 'test']), 'LocalPath': '/opt/ml/processing/test', 'S3UploadMode': 'EndOfJob'}}]\n",
      "\n",
      "Job Name:  Abalone/script-abalone-eval-2023-01-09-09-29-58-931\n",
      "Inputs:  [{'InputName': 'input-1', 'AppManaged': False, 'S3Input': {'S3Uri': <sagemaker.workflow.properties.Properties object at 0x7facfcda0a10>, 'LocalPath': '/opt/ml/processing/model', 'S3DataType': 'S3Prefix', 'S3InputMode': 'File', 'S3DataDistributionType': 'FullyReplicated', 'S3CompressionType': 'None'}}, {'InputName': 'input-2', 'AppManaged': False, 'S3Input': {'S3Uri': <sagemaker.workflow.properties.Properties object at 0x7fad02b07dd0>, 'LocalPath': '/opt/ml/processing/test', 'S3DataType': 'S3Prefix', 'S3InputMode': 'File', 'S3DataDistributionType': 'FullyReplicated', 'S3CompressionType': 'None'}}, {'InputName': 'code', 'AppManaged': False, 'S3Input': {'S3Uri': 's3://sagemaker-us-east-1-223194520082/AbalonePipeline/code/1071e707cf212df045f3b2893ea00fff/evaluate.py', 'LocalPath': '/opt/ml/processing/input/code', 'S3DataType': 'S3Prefix', 'S3InputMode': 'File', 'S3DataDistributionType': 'FullyReplicated', 'S3CompressionType': 'None'}}]\n",
      "Outputs:  [{'OutputName': 'evaluation', 'AppManaged': False, 'S3Output': {'S3Uri': Join(on='/', values=['s3:/', 'sagemaker-us-east-1-223194520082', 'AbalonePipeline', <sagemaker.workflow.execution_variables.ExecutionVariable object at 0x7fad03ed1610>, 'EvaluateAbaloneModel', 'output', 'evaluation']), 'LocalPath': '/opt/ml/processing/evaluation', 'S3UploadMode': 'EndOfJob'}}]\n"
     ]
    }
   ],
   "source": [
    "test_steps_list = [step_process, step_train, step_eval, step_cond]\n",
    "execution = sm_exec.exec_pipelines(pipeline_name, role, test_parameters_list, test_steps_list)"
   ]
  },
  {
   "cell_type": "code",
   "execution_count": 189,
   "metadata": {
    "tags": []
   },
   "outputs": [
    {
     "name": "stdout",
     "output_type": "stream",
     "text": [
      "Pipelines Status : Succeeded \n",
      "\n",
      "- StepName : RegisterAbaloneModel-RegisterModel, StepStatus : Succeeded\n",
      "- StepName : CheckMSEAbaloneEvaluation, StepStatus : Succeeded\n",
      "- StepName : EvaluateAbaloneModel, StepStatus : Succeeded\n",
      "- CacheHitResult : {'SourcePipelineExecutionArn': 'arn:aws:sagemaker:us-east-1:223194520082:pipeline/abalonepipeline/execution/otnwv17cs193'} \n",
      "\n",
      "- StepName : TrainAbaloneModel, StepStatus : Succeeded\n",
      "- CacheHitResult : {'SourcePipelineExecutionArn': 'arn:aws:sagemaker:us-east-1:223194520082:pipeline/abalonepipeline/execution/mu6jv29rzzfc'} \n",
      "\n",
      "- StepName : PreprocessAbaloneData, StepStatus : Succeeded\n",
      "- CacheHitResult : {'SourcePipelineExecutionArn': 'arn:aws:sagemaker:us-east-1:223194520082:pipeline/abalonepipeline/execution/b67huv47ewxp'} \n",
      "\n",
      "{'Condition': 'True',\n",
      " 'Processing': 'pipelines-b67huv47ewxp-preprocessabalonedat-nd2bfouvdc',\n",
      " 'RegisterModel': 'abalonepackagegroup/4',\n",
      " 'Training': 'pipelines-mu6jv29rzzfc-TrainAbaloneModel-rYZGCJvKgK'}\n",
      "step_name : Processing\n",
      "Processing : pipelines-b67huv47ewxp-preprocessabalonedat-nd2bfouvdc\n",
      "[{'AppManaged': False,\n",
      "  'OutputName': 'train',\n",
      "  'S3Output': {'LocalPath': '/opt/ml/processing/train',\n",
      "               'S3UploadMode': 'EndOfJob',\n",
      "               'S3Uri': 's3://sagemaker-us-east-1-223194520082/AbalonePipeline/b67huv47ewxp/PreprocessAbaloneData/output/train'}},\n",
      " {'AppManaged': False,\n",
      "  'OutputName': 'validation',\n",
      "  'S3Output': {'LocalPath': '/opt/ml/processing/validation',\n",
      "               'S3UploadMode': 'EndOfJob',\n",
      "               'S3Uri': 's3://sagemaker-us-east-1-223194520082/AbalonePipeline/b67huv47ewxp/PreprocessAbaloneData/output/validation'}},\n",
      " {'AppManaged': False,\n",
      "  'OutputName': 'test',\n",
      "  'S3Output': {'LocalPath': '/opt/ml/processing/test',\n",
      "               'S3UploadMode': 'EndOfJob',\n",
      "               'S3Uri': 's3://sagemaker-us-east-1-223194520082/AbalonePipeline/b67huv47ewxp/PreprocessAbaloneData/output/test'}}]\n",
      "\n",
      " --------------------------------------------------\n",
      "\n",
      "step_name : Training\n",
      "Training : pipelines-mu6jv29rzzfc-TrainAbaloneModel-rYZGCJvKgK\n",
      "S3ModelArtifacts : s3://sagemaker-us-east-1-223194520082/Abalone/AbaloneTrain/pipelines-mu6jv29rzzfc-TrainAbaloneModel-rYZGCJvKgK/output/model.tar.gz\n",
      "\n",
      " --------------------------------------------------\n",
      "\n",
      "step_name : Processing\n",
      "Processing : pipelines-b67huv47ewxp-preprocessabalonedat-nd2bfouvdc\n",
      "[{'AppManaged': False,\n",
      "  'OutputName': 'train',\n",
      "  'S3Output': {'LocalPath': '/opt/ml/processing/train',\n",
      "               'S3UploadMode': 'EndOfJob',\n",
      "               'S3Uri': 's3://sagemaker-us-east-1-223194520082/AbalonePipeline/b67huv47ewxp/PreprocessAbaloneData/output/train'}},\n",
      " {'AppManaged': False,\n",
      "  'OutputName': 'validation',\n",
      "  'S3Output': {'LocalPath': '/opt/ml/processing/validation',\n",
      "               'S3UploadMode': 'EndOfJob',\n",
      "               'S3Uri': 's3://sagemaker-us-east-1-223194520082/AbalonePipeline/b67huv47ewxp/PreprocessAbaloneData/output/validation'}},\n",
      " {'AppManaged': False,\n",
      "  'OutputName': 'test',\n",
      "  'S3Output': {'LocalPath': '/opt/ml/processing/test',\n",
      "               'S3UploadMode': 'EndOfJob',\n",
      "               'S3Uri': 's3://sagemaker-us-east-1-223194520082/AbalonePipeline/b67huv47ewxp/PreprocessAbaloneData/output/test'}}]\n",
      "\n",
      " --------------------------------------------------\n",
      "\n",
      "step_name : Condition\n",
      "Condition : True\n",
      "\n",
      " --------------------------------------------------\n",
      "\n"
     ]
    }
   ],
   "source": [
    "sm_exec.describe_pipelines(execution)\n",
    "sm_exec.get_step_results(execution,test_steps_list)"
   ]
  },
  {
   "cell_type": "code",
   "execution_count": null,
   "metadata": {},
   "outputs": [],
   "source": []
  }
 ],
 "metadata": {
  "instance_type": "ml.t3.medium",
  "kernelspec": {
   "display_name": "Python 3 (Data Science)",
   "language": "python",
   "name": "python3__SAGEMAKER_INTERNAL__arn:aws:sagemaker:us-east-1:081325390199:image/datascience-1.0"
  },
  "language_info": {
   "codemirror_mode": {
    "name": "ipython",
    "version": 3
   },
   "file_extension": ".py",
   "mimetype": "text/x-python",
   "name": "python",
   "nbconvert_exporter": "python",
   "pygments_lexer": "ipython3",
   "version": "3.7.10"
  }
 },
 "nbformat": 4,
 "nbformat_minor": 4
}
